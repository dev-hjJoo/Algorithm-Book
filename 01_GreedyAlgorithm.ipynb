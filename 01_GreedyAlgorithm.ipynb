{
 "cells": [
  {
   "cell_type": "markdown",
   "metadata": {},
   "source": [
    "# Greedy Algorithm\n",
    "* 단순하게 현재 순간에서 가장 좋은 선택지를 고르는 방법으로, 미래에 현재 선택이 미칠 영향을 고려하지 않는다.\n",
    "* 문제에서 가장 좋은 선택지를 고르는 기준에 대해 언급하고 있는 경우가 많다.\n",
    "* 주로 정렬 알고리즘과 함께 쓰인다.\n",
    "* 그리디 알고리즘을 모든 문제에 적용할 수 있는 것은 아니며, '최적의 해'를 찾을 수 없을 가능성이 높다.\n",
    "  * 따라서 제안한 아이디어가 정당한지 검토를 꼭 수행하여야 한다."
   ]
  },
  {
   "cell_type": "markdown",
   "metadata": {},
   "source": [
    "### Greedy01: [백준 5585번. 거스름돈/ 난이도: 브론즈2](https://www.acmicpc.net/problem/5585)\n",
    "* 문제 요약\n",
    "  * 거스름돈으로 사용할 단위(500원, 100원, 50원, ...)가 정해져있을 때 거스름돈의 개수가 가장 적게 잔돈을 주려고 할 때 잔돈의 개수를 구하는 문제이다.\n",
    "* 풀이 방법\n",
    "  * 큰 단위부터 사용한다.\n",
    "    * 이 방법을 사용할 수 있는 이유는 단위들이 서로 배수/약수 관계이기 때문이다.\n",
    "    * 만약 화폐 단위가 [300, 170, 50] 등과 같이 서로 배수 관계에 포함되지 않은 것을 포함한다면 이 방법을 활용할 수 없다.\n",
    "* 시간 복잡도\n",
    "  * O(K), 이 때 K는 화폐의 종류 개수"
   ]
  },
  {
   "cell_type": "code",
   "execution_count": 2,
   "metadata": {},
   "outputs": [
    {
     "name": "stdout",
     "output_type": "stream",
     "text": [
      "15\n"
     ]
    }
   ],
   "source": [
    "units = [500, 100, 50, 10, 5, 1]\n",
    "\n",
    "total_money = 1000\n",
    "price = int(input())\n",
    "\n",
    "change = total_money - price\n",
    "total_cnt = 0\n",
    "i = 0\n",
    "while change > 0:\n",
    "    cnt = change // units[i]\n",
    "    change = change - (units[i] * cnt)\n",
    "    total_cnt += cnt\n",
    "    \n",
    "    i += 1\n",
    "\n",
    "print(total_cnt)       "
   ]
  },
  {
   "cell_type": "markdown",
   "metadata": {},
   "source": [
    "### Greedy02: 동빈북92P. 큰 수의 법칙\n",
    "* 문제 요약\n",
    "    * M과 K가 주어질 때, 주어진 수들 중 하나를 M번 선택하여 가장 큰 수를 만드는 문제이다. 단 M개의 선택된 숫자 중 동일한 숫자가 K번을 초과하여 반복되어선 안된다. 단, 주어진 수들 중에 같은 숫자이더라도 서로 다른 인덱스에 있다면 서로 다른 숫자로 처리한다.\n",
    "* 풀이 방법\n",
    "    * 가장 큰 숫자를 K번 반복한 후에, 두 번째로 큰 숫자를 한 번 넣어준다. 이를 반복하여 수열을 만든다.\n",
    "* 시간 복잡도: O(N), 이 때 N은 출력으로 제시되어야 하는 리스트의 길이"
   ]
  },
  {
   "cell_type": "code",
   "execution_count": 7,
   "metadata": {},
   "outputs": [
    {
     "name": "stdout",
     "output_type": "stream",
     "text": [
      "28\n"
     ]
    }
   ],
   "source": [
    "n, m, k = [int(value) for value in input().split()]\n",
    "arr = sorted([int(value) for value in input().split()], reverse=True)\n",
    "\n",
    "result = 0\n",
    "\n",
    "for i in range(1, m+1):\n",
    "    if i % (k+1) == 0:\n",
    "        result += arr[1]\n",
    "    else:\n",
    "        result += arr[0]\n",
    "\n",
    "print(result)"
   ]
  },
  {
   "cell_type": "code",
   "execution_count": null,
   "metadata": {},
   "outputs": [],
   "source": []
  }
 ],
 "metadata": {
  "kernelspec": {
   "display_name": "torch",
   "language": "python",
   "name": "python3"
  },
  "language_info": {
   "codemirror_mode": {
    "name": "ipython",
    "version": 3
   },
   "file_extension": ".py",
   "mimetype": "text/x-python",
   "name": "python",
   "nbconvert_exporter": "python",
   "pygments_lexer": "ipython3",
   "version": "3.9.16"
  }
 },
 "nbformat": 4,
 "nbformat_minor": 2
}
