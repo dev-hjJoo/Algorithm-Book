{
 "cells": [
  {
   "cell_type": "markdown",
   "metadata": {},
   "source": [
    "# Greedy Algorithm\n",
    "* 단순하게 현재 순간에서 가장 좋은 선택지를 고르는 방법으로, 미래에 현재 선택이 미칠 영향을 고려하지 않는다.\n",
    "* 문제에서 가장 좋은 선택지를 고르는 기준에 대해 언급하고 있는 경우가 많다.\n",
    "* 주로 정렬 알고리즘과 함께 쓰인다.\n",
    "* 그리디 알고리즘을 모든 문제에 적용할 수 있는 것은 아니며, '최적의 해'를 찾을 수 없을 가능성이 높다.\n",
    "  * 따라서 제안한 아이디어가 정당한지 검토를 꼭 수행하여야 한다."
   ]
  },
  {
   "cell_type": "markdown",
   "metadata": {},
   "source": [
    "### Greedy01: [백준 5585번. 거스름돈/ 난이도: 브론즈2](https://www.acmicpc.net/problem/5585)\n",
    "* 문제 요약\n",
    "  * 거스름돈으로 사용할 단위(500원, 100원, 50원, ...)가 정해져있을 때 거스름돈의 개수가 가장 적게 잔돈을 주려고 할 때 잔돈의 개수를 구하는 문제이다.\n",
    "* 풀이 방법\n",
    "  * 큰 단위부터 사용한다.\n",
    "    * 이 방법을 사용할 수 있는 이유는 단위들이 서로 배수/약수 관계이기 때문이다.\n",
    "    * 만약 화폐 단위가 [300, 170, 50] 등과 같이 서로 배수 관계에 포함되지 않은 것을 포함한다면 이 방법을 활용할 수 없다.\n",
    "* 시간 복잡도\n",
    "  * O(K), 이 때 K는 화폐의 종류 개수"
   ]
  },
  {
   "cell_type": "code",
   "execution_count": 1,
   "metadata": {},
   "outputs": [
    {
     "name": "stdout",
     "output_type": "stream",
     "text": [
      "4\n"
     ]
    }
   ],
   "source": [
    "units = [500, 100, 50, 10, 5, 1]\n",
    "\n",
    "total_money = 1000\n",
    "price = int(input())\n",
    "\n",
    "change = total_money - price\n",
    "total_cnt = 0\n",
    "i = 0\n",
    "while change > 0:\n",
    "    cnt = change // units[i]\n",
    "    change = change - (units[i] * cnt)\n",
    "    total_cnt += cnt\n",
    "    \n",
    "    i += 1\n",
    "\n",
    "print(total_cnt)       "
   ]
  },
  {
   "cell_type": "markdown",
   "metadata": {},
   "source": [
    "### Greedy01-1. [백준 14916번. 거스름돈/ 난이도: 실버5](https://www.acmicpc.net/problem/14916)\n",
    "* 문제 요약\n",
    "    * 위 문제와 동일하다. 거스름돈으로 사용할 단위가 정해져있을 때 동전의 개수가 최소가 되도록 거슬러주는 문제이다. 그러나 단위가 [5원, 2원] 두 가지 일 때에 대한 문제를 해결하라.\n",
    "* 풀이 방법\n",
    "    * 위 문제에서는 거스름돈으로 사용되는 단위가 서로 배수 관계였다면, 이 문제는 그렇지 않은 항목도 포함하고 있다.\n",
    "    * 그러나 여전히 더 큰 단위인 5를 먼저 사용하는 것이 도움이 될 것이다.\n",
    "    * 따라서 5로 먼저 나누되, 5로 나눈 나머지가 짝수이도록 한다.\n",
    "        * 즉, 13이라면 5원이 두 번 포함될 수 있지만, 3원은 2원으로 거슬러줄 수 없기 때문에 5는 한 번만 포함시키고 나머지는 2원으로 제공하는 것이다.\n",
    "    * 그리고 입력 범위가 1원부터인데, 1원과 3원은 현재 제시되는 [5원, 2원] 두 가지만을 이용하여 잔돈을 줄 수 없기 때문에 예외처리를 해주어야 한다.\n",
    "* 시간 복잡도: O(1), 상수항의 연산으로 실행이 가능하기 때문이다."
   ]
  },
  {
   "cell_type": "code",
   "execution_count": 2,
   "metadata": {},
   "outputs": [
    {
     "name": "stdout",
     "output_type": "stream",
     "text": [
      "5\n"
     ]
    }
   ],
   "source": [
    "change = int(input())\n",
    "\n",
    "if change == 1 or change == 3: print(-1)\n",
    "else:\n",
    "    if (change % 5) % 2 != 0:\n",
    "        cnt = ((change // 5) - 1)\n",
    "        change -= (cnt * 5)\n",
    "        cnt += change // 2\n",
    "    else:\n",
    "        cnt = change // 5\n",
    "        cnt += (change % 5) // 2\n",
    "\n",
    "    print(cnt)"
   ]
  },
  {
   "cell_type": "markdown",
   "metadata": {},
   "source": [
    "### Greedy02: 동빈북92P. 큰 수의 법칙\n",
    "* 문제 요약\n",
    "    * M과 K가 주어질 때, 주어진 수들 중 하나를 M번 선택하여 가장 큰 수를 만드는 문제이다. 단 M개의 선택된 숫자 중 동일한 숫자가 K번을 초과하여 반복되어선 안된다. 단, 주어진 수들 중에 같은 숫자이더라도 서로 다른 인덱스에 있다면 서로 다른 숫자로 처리한다.\n",
    "* 풀이 방법\n",
    "    * 가장 큰 숫자를 K번 반복한 후에, 두 번째로 큰 숫자를 한 번 넣어준다. 이를 반복하여 수열을 만든다.\n",
    "* 시간 복잡도: O(N), 이 때 N은 출력으로 제시되어야 하는 리스트의 길이"
   ]
  },
  {
   "cell_type": "code",
   "execution_count": 3,
   "metadata": {},
   "outputs": [
    {
     "name": "stdout",
     "output_type": "stream",
     "text": [
      "46\n"
     ]
    }
   ],
   "source": [
    "n, m, k = [int(value) for value in input().split()]\n",
    "arr = sorted([int(value) for value in input().split()], reverse=True)\n",
    "\n",
    "result = 0\n",
    "\n",
    "for i in range(1, m+1):\n",
    "    if i % (k+1) == 0:\n",
    "        result += arr[1]\n",
    "    else:\n",
    "        result += arr[0]\n",
    "\n",
    "print(result)"
   ]
  },
  {
   "cell_type": "markdown",
   "metadata": {},
   "source": [
    "### Greedy03: 동빈북96p. 숫자 카드 게임\n",
    "* 문제 요약\n",
    "    * N * M 형태로 놓여있는 카드 중 가장 큰 숫자를 뽑는 문제이다. 단, 카드를 뽑는 규칙은 사용자는 원하는 행을 선택할 수 있고, 해당 행에서 가장 작은 숫자를 가지고 가는 것이다.\n",
    "    * 즉, 각 행에서 가장 작은 숫자를 가지고 갈 수 있으며, 그 중 가장 큰 값을 가지고 가려면 어떤 행을 선택해야 하는지에 대한 문제이다.\n",
    "        * 따라서 각 행의 최소값들 중 가장 큰 값이 내가 얻을 수 있는 가장 큰 값이라고 할 수 있다.\n",
    "* 풀이 방법\n",
    "    * 행별 최소값 중 최대값을 구한다.\n",
    "* 시간 복잡도: O(N^2), 입력으로 주어진 두 변수 n, m에 대하여 이중 반복문을 사용하기 때문이다."
   ]
  },
  {
   "cell_type": "code",
   "execution_count": 4,
   "metadata": {},
   "outputs": [
    {
     "name": "stdout",
     "output_type": "stream",
     "text": [
      "2\n"
     ]
    }
   ],
   "source": [
    "n, m = map(int, input().split())\n",
    "max_value = 0 # 1 이상의 값을 가지고 있다고 했으므로, 최소값보다 작은 값을 할당하였음.\n",
    "for i in range(n):\n",
    "    values = [int(x) for x in input().split()]\n",
    "    if min(values) > max_value: max_value = min(values)\n",
    "    \n",
    "print(max_value)\n",
    "    "
   ]
  },
  {
   "cell_type": "markdown",
   "metadata": {},
   "source": [
    "### Greedy04: 동빈북99p. 1이 될 때까지\n",
    "* 문제 요약\n",
    "    * 1이 될 때까지 아래 두 가지 연산을 반복하여 수행하며, 이 반복 횟수가 최소가 되는 값을 구한다.\n",
    "        1. N에서 1을 뺀다.\n",
    "        2. N을 K로 나눈다. (K는 2 이상이며 항상 N보다 작다. N이 K로 나누어 떨어질 때만 사용할 수 있다.)\n",
    "* 풀이 방법\n",
    "    * 이전 문제들과 유형이 동일하다고 볼 수 있다. 나누는 것이 1에 빨리 도달할 가능성이 높으므로 최대한 나누기를 많이 실행한다.\n",
    "    * 단, N이 K로 나누어 떨어질 때만 사용할 수 있다는 예외를 잘 적용한다.\n",
    "* 시간 복잡도: O(1), 입력 값에 좌우되는 문제가 아니기 때문이다."
   ]
  },
  {
   "cell_type": "code",
   "execution_count": 5,
   "metadata": {},
   "outputs": [
    {
     "name": "stdout",
     "output_type": "stream",
     "text": [
      "6\n"
     ]
    }
   ],
   "source": [
    "n, k = map(int, input().split())\n",
    "\n",
    "cnt = 0\n",
    "while n != 1:\n",
    "    if n % k == 0: n = n // k\n",
    "    else: n = n - 1\n",
    "    cnt += 1\n",
    "\n",
    "print(cnt)\n",
    "        "
   ]
  }
 ],
 "metadata": {
  "kernelspec": {
   "display_name": "torch",
   "language": "python",
   "name": "python3"
  },
  "language_info": {
   "codemirror_mode": {
    "name": "ipython",
    "version": 3
   },
   "file_extension": ".py",
   "mimetype": "text/x-python",
   "name": "python",
   "nbconvert_exporter": "python",
   "pygments_lexer": "ipython3",
   "version": "3.9.16"
  }
 },
 "nbformat": 4,
 "nbformat_minor": 2
}
