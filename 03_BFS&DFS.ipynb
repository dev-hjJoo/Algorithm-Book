{
 "cells": [
  {
   "cell_type": "markdown",
   "metadata": {},
   "source": [
    "# 탐색 (Search)\n",
    "* 많은 양의 데이터 중에서 원하는 데이터를 찾는 과정이다.\n",
    "  * 프로그래밍에서는 그래프, 트리 등의 자료구조 안에서 탐색을 하는 문제를 자주 다룬다.\n",
    "* Implementation 노트북에서 보았던 완전 탐색을 포함하여 다양한 방법이 있다.\n",
    "* 본 노트북에서는 그래프를 탐색하는 DFS와 BFS를 중심으로 살펴본다.\n",
    "\n",
    "\n",
    "### 주의사항\n",
    "* 스택과 큐의 경우 Overflow와 Underflow를 고민해야 한다."
   ]
  },
  {
   "cell_type": "markdown",
   "metadata": {},
   "source": [
    "## 스택 사용 방법: How to use a STACK\n",
    "* 별도의 라이브러리를 사용하지 않고 리스트의 append(), pop() 메서드를 사용하면 동일하게 동작한다\n",
    "    * append(): 리스트의 맨 뒤에 데이터 삽입하기\n",
    "    * pop(): 리스트의 맨 뒤에서 데이터 꺼내기"
   ]
  },
  {
   "cell_type": "code",
   "execution_count": 3,
   "metadata": {},
   "outputs": [
    {
     "name": "stdout",
     "output_type": "stream",
     "text": [
      "[5, 2, 3, 1]\n",
      "[1, 3, 2, 5]\n"
     ]
    }
   ],
   "source": [
    "# 리스트로 스택 구현하기\n",
    "stack = []\n",
    "\n",
    "# 삽입(5) -> 삽입(2) -> 삽입(3) -> 삽입(7) -> 삭제() -> 삽입(1) -> 삽입(4) -> 삭제()\n",
    "stack.append(5)\n",
    "stack.append(2)\n",
    "stack.append(3)\n",
    "stack.append(7)\n",
    "stack.pop()     # 7 삭제\n",
    "stack.append(1)\n",
    "stack.append(4)\n",
    "stack.pop()     # 4 삭제\n",
    "\n",
    "print(stack) # 최하단 원소(0번 인덱스)부터 출력\n",
    "print(stack[::-1]) # 최상단 원소부터 출력"
   ]
  },
  {
   "cell_type": "markdown",
   "metadata": {},
   "source": [
    "## 큐 사용 방법: How to use a QUEUE\n",
    "* 큐(Queue) 구현을 위해 collections 모듈에서 제공하는 deque 라이브러리를 사용한다.\n",
    "* 삽입은 리스트와 동일하게 append() 메소드를 사용하며, 큐의 삭제는 popleft() 메소드를 사용한다."
   ]
  },
  {
   "cell_type": "code",
   "execution_count": 4,
   "metadata": {},
   "outputs": [
    {
     "name": "stdout",
     "output_type": "stream",
     "text": [
      "deque([3, 7, 1, 4])\n",
      "deque([4, 1, 7, 3])\n"
     ]
    }
   ],
   "source": [
    "# 리스트로 큐 구현하기\n",
    "from collections import deque\n",
    "queue = deque()\n",
    "\n",
    "# 삽입(5) -> 삽입(2) -> 삽입(3) -> 삽입(7) -> 삭제() -> 삽입(1) -> 삽입(4) -> 삭제()\n",
    "queue.append(5)\n",
    "queue.append(2)\n",
    "queue.append(3)\n",
    "queue.append(7)\n",
    "queue.popleft()     # 5 삭제\n",
    "queue.append(1)\n",
    "queue.append(4)\n",
    "queue.popleft()     # 2 삭제\n",
    "\n",
    "print(queue) # 최하단 원소(0번 인덱스, 먼저 들어온 것)부터 출력\n",
    "queue.reverse()\n",
    "print(queue) # 최상단 원소부터 출력"
   ]
  },
  {
   "cell_type": "code",
   "execution_count": 5,
   "metadata": {},
   "outputs": [
    {
     "name": "stdout",
     "output_type": "stream",
     "text": [
      "[4, 1, 7, 3]\n",
      "[3, 7, 1, 4]\n"
     ]
    }
   ],
   "source": [
    "# 만약 deque 객체를 리스트 자료형으로 변경하고 싶다면\n",
    "queue = list(queue)\n",
    "print(queue)\n",
    "print(queue[::-1])"
   ]
  },
  {
   "cell_type": "code",
   "execution_count": null,
   "metadata": {},
   "outputs": [],
   "source": []
  }
 ],
 "metadata": {
  "kernelspec": {
   "display_name": "PyTorch",
   "language": "python",
   "name": "python3"
  },
  "language_info": {
   "codemirror_mode": {
    "name": "ipython",
    "version": 3
   },
   "file_extension": ".py",
   "mimetype": "text/x-python",
   "name": "python",
   "nbconvert_exporter": "python",
   "pygments_lexer": "ipython3",
   "version": "3.9.16"
  }
 },
 "nbformat": 4,
 "nbformat_minor": 2
}
