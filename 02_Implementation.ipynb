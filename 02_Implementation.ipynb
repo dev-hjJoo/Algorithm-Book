{
 "cells": [
  {
   "cell_type": "markdown",
   "metadata": {},
   "source": [
    "# 구현 (Implementation)\n",
    "* 문제에 대해 생각해 낸 풀이 방법을 프로그래밍 언어로 구현해내는 과정을 의미한다.\n",
    "* 사소한 조건이 많이 설정되어 있는 문제일수록 코드로 구현하기가 어렵다.\n",
    "* 프로그래밍 문법과 문제의 요구 사항을 정확히 이해하여야 구현할 수 있다.\n",
    "* 이 노트북은 동빈북과 동일하게 완전 탐색과 시뮬레이션 유형을 포함한다.\n",
    "  * 두 유형은 구현이 핵심이 되는 경우가 많기 때문이다.\n",
    "\n",
    "### 주의사항\n",
    "* 시간과 메모리의 제한이 있기 때문에 어떤 알고리즘으로 작성해야 하는지 예측할 수 있어야 한다.\n",
    "* 사소한 입력 조건 등을 문제에서 명시해주며 문제의 길이가 꽤 긴 편이다.\n",
    "* 고차원적인 사고력을 요구하는 문제는 잘 나오지 않으므로 문법에 익숙하다면 오히려 쉽게 풀 수 있다."
   ]
  },
  {
   "cell_type": "markdown",
   "metadata": {},
   "source": [
    "### Implementation01: [백준 1475번. 방 번호](https://www.acmicpc.net/problem/1475)\n",
    "* 문제 요약\n",
    "    * 0번부터 9번까지 숫자가 하나씩 들어있는 숫자 세트가 있다. 방 번호를 모두 표현하기 위해서는 최소 몇 개의 숫자 세트를 구매해야 할까?\n",
    "        * 참고로 6과 9는 서로 뒤집어서 사용할 수 있다.\n",
    "* 풀이 방법\n",
    "    * 숫자별로 사용한 개수를 세고, 최대값을 구한다.\n",
    "    * 단, 6과 9는 서로 호환이 가능하므로 평균을 구한다. (홀수개라면 하나 더 구매해야 하므로 올림을 해준다.)\n",
    "* 시간 복잡도\n",
    "    * O(N), 숫자를 셀 때 혹은 최대값을 구할 때 리스트를 순회하기 때문이다."
   ]
  },
  {
   "cell_type": "code",
   "execution_count": 1,
   "metadata": {},
   "outputs": [
    {
     "name": "stdout",
     "output_type": "stream",
     "text": [
      "2\n"
     ]
    }
   ],
   "source": [
    "import math\n",
    "n = input()\n",
    "cnt_list = [0 for i in range(10)]\n",
    "for i in range(len(n)):\n",
    "    cnt_list[int(n[i])] += 1\n",
    "\n",
    "cnt_list[6] = cnt_list[9] = math.ceil((cnt_list[6] + cnt_list[9]) / 2)\n",
    "print(max(cnt_list))"
   ]
  },
  {
   "cell_type": "markdown",
   "metadata": {},
   "source": [
    "### Implementation02: 동빈북110p.상하좌우\n",
    "* 문제 요약: 공간의 크기 n과 이동 계획 plans가 주어졌을 때, 이동 계획대로 이동하여 최종적으로 도착하는 위치는 어디일까?\n",
    "* 풀이 방법: 공간을 벗어나지 않으면서 이동 계획에 맞게 이동한다. 공간을 벗어난 움직임은 무시되므로 신경쓰지 않는다.\n",
    "* 시간 복잡도: O(N), 이동 계획의 길이에 따라 시간 복잡도가 달라진다."
   ]
  },
  {
   "cell_type": "code",
   "execution_count": 2,
   "metadata": {},
   "outputs": [
    {
     "name": "stdout",
     "output_type": "stream",
     "text": [
      "3 4\n"
     ]
    }
   ],
   "source": [
    "posX = posY = 1\n",
    "n = int(input())\n",
    "plans = input().split()\n",
    "\n",
    "for plan in plans:\n",
    "    if plan == 'R' and posX < n: posX += 1\n",
    "    elif plan == 'L' and posX > 1: posX -= 1\n",
    "    elif plan == 'U' and posY > 1: posY -= 1\n",
    "    elif plan == 'D' and posY < n: posY += 1\n",
    "    \n",
    "print(posY, posX)"
   ]
  },
  {
   "cell_type": "markdown",
   "metadata": {},
   "source": [
    "### Implementation03: 동빈북113p. 시각\n",
    "* 문제 요약\n",
    "    * 0부터 23 사이의 값을 갖는 정수 n이 주어졌을 때, n시 59분 59초까지 모든 시각 중 3이 하나라도 포함된 경우의 수를 구하라.\n",
    "    * 완전 탐색(Brute Forcing) 유형 문제\n",
    "* 풀이 방법\n",
    "    * 1초씩 증가시키며 3이 포함된 경우를 카운팅한다.\n",
    "    * 최대 24시간의 경우의 수를 포함한다. 즉, 60(초)\\*60(분)*24(시)를 계산한 86,400가지가 나올 수 있는 최대 경우의 수이다. 따라서 완전 탐색 방식으로 풀어도 시간이 많이 걸리지 않는다.\n",
    "* 시간 복잡도: O(n), 실행횟수는 입력받은 n에 선형적으로 증가한다."
   ]
  },
  {
   "cell_type": "code",
   "execution_count": 3,
   "metadata": {},
   "outputs": [
    {
     "name": "stdout",
     "output_type": "stream",
     "text": [
      "11475\n"
     ]
    }
   ],
   "source": [
    "n = int(input())\n",
    "\n",
    "hour, minute, second = 0, 0, 0\n",
    "cnt = 0\n",
    "\n",
    "check_list = [3, 13, 23, 33, 43, 53]\n",
    "\n",
    "while True:\n",
    "    if '3' in str(hour)+str(minute)+str(second): cnt += 1\n",
    "    if hour == n and minute == 59 and second == 59: break\n",
    "    \n",
    "    second += 1\n",
    "    \n",
    "    if second == 60: second, minute = 0, minute+1\n",
    "    if minute == 60: minute, hour = 0, hour+1\n",
    "\n",
    "print(cnt)\n",
    "    "
   ]
  },
  {
   "cell_type": "markdown",
   "metadata": {},
   "source": [
    "### Implementation04: 동빈북115p. 왕실의 나이트\n",
    "* 문제 요약: 현재 위치가 주어질 때, 나이트가 이동 가능한 경로의 경우의 수를 출력하라.\n",
    "* 풀이 방법: 이동 가능한 경우의 수가 8가지이므로, 모든 경우의 수에 대해 계산해보고 해당하는 것을 카운팅한다.\n",
    "* 시간 복잡도: O(1), 8번에 대해서만 계산하면 되므로 O(1)이다."
   ]
  },
  {
   "cell_type": "code",
   "execution_count": 4,
   "metadata": {},
   "outputs": [
    {
     "name": "stdout",
     "output_type": "stream",
     "text": [
      "2\n"
     ]
    }
   ],
   "source": [
    "movements = [[2, 1], [-2, 1], [2, -1], [-2, -1], [1, 2], [-1, 2], [1, -2], [-1, -2]]\n",
    "dictX = {'a': 0, 'b': 1, 'c': 2, 'd': 3, 'e': 4, 'f': 5, 'g':6, 'h': 7}\n",
    "pos = input()\n",
    "posX, posY = dictX[pos[0]], int(pos[1])-1\n",
    "cnt = 0\n",
    "\n",
    "for movement in movements:\n",
    "    moveX, moveY = movement\n",
    "    nextX, nextY = posX+moveX, posY+moveY\n",
    "    \n",
    "    if (nextX >= 0 and nextX < 8) and (nextY >= 0 and nextY < 8): cnt += 1\n",
    "\n",
    "print(cnt)"
   ]
  },
  {
   "cell_type": "markdown",
   "metadata": {},
   "source": [
    "### Implementation05: 동빈북118p. 게임 개발\n",
    "* 문제 요약\n",
    "    * 현재 위치와 방향이 주어졌을 때전체 맵에서 이동할 수 있는 칸 수를 구하는 문제\n",
    "* 풀이 방법\n",
    "    * 시뮬레이션 문제이므로 디버깅을 수행하면서 내 코드가 어떻게 작동하는지 확인하며 푸는 것이 좋다.\n",
    "    * 방향이 있어 이동할 수 있는 순서가 정해져있으므로, 이를 배열로 지정해두고 반복문을 이용하여 순서대로 이동할 수 있게 해야 한다.\n",
    "    * 문제에서 요구하는 부분이 많기 때문에 하나하나 꼼꼼히 체크해가며 푼다.\n",
    "* 시간 복잡도: O(n^2) 최악의 경우 입력으로 주어진 두 개의 값을 곱한 만큼 이동하게 되기 때문이다."
   ]
  },
  {
   "cell_type": "code",
   "execution_count": 5,
   "metadata": {},
   "outputs": [
    {
     "name": "stdout",
     "output_type": "stream",
     "text": [
      "3\n"
     ]
    }
   ],
   "source": [
    "sizeX, sizeY = map(int, input().split())\n",
    "posX, posY, current_dir = map(int, input().split())\n",
    "move = [[0, -1], [1, 0], [0, 1], [-1, 0]]\n",
    "game_map = []\n",
    "\n",
    "cnt = 1\n",
    "\n",
    "for i in range(sizeX):\n",
    "    game_map.append(input().split())\n",
    "\n",
    "while True:\n",
    "    game_map[posX][posY] = '2'\n",
    "    \n",
    "    flag=False\n",
    "    # 가보지 않은 곳 중 이동할 수 있는 칸이 있는지 확인하기\n",
    "    for i in range(4):\n",
    "        next_dir = (current_dir+i)%4\n",
    "        # 이동한 곳이 칸의 범위를 벗어나면 안 되므로 예외처리\n",
    "        if posX+move[next_dir][0] < 0 or posX+move[next_dir][0] >= sizeX: continue\n",
    "        if posY+move[next_dir][1] < 0 or posY+move[next_dir][1] >= sizeY: continue\n",
    "        \n",
    "        if game_map[posX+move[next_dir][0]][posY+move[next_dir][1]] == '0':\n",
    "            cnt += 1 # 카운트는 가보지 않은 칸에 대해서만 증가\n",
    "            current_dir = (next_dir+1)%4\n",
    "            posX = posX+move[next_dir][0]\n",
    "            posY = posY+move[next_dir][1]\n",
    "            flag=True\n",
    "            break\n",
    "    \n",
    "    # 이동할 수 있는 칸이 없다면 (가 본 적 있는) 뒤로 이동하기\n",
    "    if not flag:\n",
    "        next_dir = (current_dir+2)%4\n",
    "        # 뒤로 이동할 공간이 없는 것 또한 예외처리\n",
    "        if posX+move[next_dir][0] < 0 or posX+move[next_dir][0] >= sizeX: break\n",
    "        if posY+move[next_dir][1] < 0 or posY+move[next_dir][1] >= sizeY: break\n",
    "        \n",
    "        if game_map[posX+move[next_dir][0]][posY+move[next_dir][1]] == '2':\n",
    "            posX = posX+move[next_dir][0]\n",
    "            posY = posY+move[next_dir][1]\n",
    "        else: \n",
    "            break # 뒤가 바다인 경우 움직임을 멈추기\n",
    "print(cnt)"
   ]
  },
  {
   "cell_type": "code",
   "execution_count": null,
   "metadata": {},
   "outputs": [],
   "source": []
  }
 ],
 "metadata": {
  "kernelspec": {
   "display_name": "PyTorch",
   "language": "python",
   "name": "python3"
  },
  "language_info": {
   "codemirror_mode": {
    "name": "ipython",
    "version": 3
   },
   "file_extension": ".py",
   "mimetype": "text/x-python",
   "name": "python",
   "nbconvert_exporter": "python",
   "pygments_lexer": "ipython3",
   "version": "3.9.16"
  }
 },
 "nbformat": 4,
 "nbformat_minor": 2
}
