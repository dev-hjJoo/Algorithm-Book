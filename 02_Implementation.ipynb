{
 "cells": [
  {
   "cell_type": "markdown",
   "metadata": {},
   "source": [
    "# 구현 (Implementation)\n",
    "* 문제에 대해 생각해 낸 풀이 방법을 프로그래밍 언어로 구현해내는 과정을 의미한다.\n",
    "* 사소한 조건이 많이 설정되어 있는 문제일수록 코드로 구현하기가 어렵다.\n",
    "* 프로그래밍 문법과 문제의 요구 사항을 정확히 이해하여야 구현할 수 있다.\n",
    "* 이 레포는 동빈북과 동일하게 완전 탐색과 시뮬레이션 유형을 포함한다.\n",
    "  * 두 유형은 구현이 핵심이 되는 경우가 많기 때문이다.\n",
    "\n",
    "### 주의사항\n",
    "* 시간과 메모리의 제한이 있기 때문에 어떤 알고리즘으로 작성해야 하는지 예측할 수 있어야 한다.\n",
    "* 사소한 입력 조건 등을 문제에서 명시해주며 문제의 길이가 꽤 긴 편이다.\n",
    "* 고차원적인 사고력을 요구하는 문제는 잘 나오지 않으므로 문법에 익숙하다면 오히려 쉽게 풀 수 있다."
   ]
  },
  {
   "cell_type": "markdown",
   "metadata": {},
   "source": [
    "### Implementation01: [백준 1475번. 방 번호](https://www.acmicpc.net/problem/1475)\n",
    "* 문제 요약\n",
    "    * 0번부터 9번까지 숫자가 하나씩 들어있는 숫자 세트가 있다. 방 번호를 모두 표현하기 위해서는 최소 몇 개의 숫자 세트를 구매해야 할까?\n",
    "        * 참고로 6과 9는 서로 뒤집어서 사용할 수 있다.\n",
    "* 풀이 방법\n",
    "    * 숫자별로 사용한 개수를 세고, 최대값을 구한다.\n",
    "    * 단, 6과 9는 서로 호환이 가능하므로 평균을 구한다. (홀수개라면 하나 더 구매해야 하므로 올림을 해준다.)\n",
    "* 시간 복잡도\n",
    "    * O(N), 숫자를 셀 때 혹은 최대값을 구할 때 리스트를 순회하기 때문이다."
   ]
  },
  {
   "cell_type": "code",
   "execution_count": 1,
   "metadata": {},
   "outputs": [
    {
     "name": "stdout",
     "output_type": "stream",
     "text": [
      "2\n"
     ]
    }
   ],
   "source": [
    "import math\n",
    "n = input()\n",
    "cnt_list = [0 for i in range(10)]\n",
    "for i in range(len(n)):\n",
    "    cnt_list[int(n[i])] += 1\n",
    "\n",
    "cnt_list[6] = cnt_list[9] = math.ceil((cnt_list[6] + cnt_list[9]) / 2)\n",
    "print(max(cnt_list))"
   ]
  },
  {
   "cell_type": "code",
   "execution_count": null,
   "metadata": {},
   "outputs": [],
   "source": []
  }
 ],
 "metadata": {
  "kernelspec": {
   "display_name": "PyTorch",
   "language": "python",
   "name": "python3"
  },
  "language_info": {
   "codemirror_mode": {
    "name": "ipython",
    "version": 3
   },
   "file_extension": ".py",
   "mimetype": "text/x-python",
   "name": "python",
   "nbconvert_exporter": "python",
   "pygments_lexer": "ipython3",
   "version": "3.9.16"
  }
 },
 "nbformat": 4,
 "nbformat_minor": 2
}
